{
  "nbformat": 4,
  "nbformat_minor": 0,
  "metadata": {
    "colab": {
      "name": "ResNet152.ipynb",
      "provenance": [],
      "collapsed_sections": []
    },
    "kernelspec": {
      "name": "python3",
      "display_name": "Python 3"
    },
    "accelerator": "GPU"
  },
  "cells": [
    {
      "cell_type": "code",
      "metadata": {
        "id": "w_NS2cl1OFYL"
      },
      "source": [
        "import numpy as np\n",
        "import h5py\n",
        "def read_train_hdf5():\n",
        "    images, labels = [], []\n",
        "    # Open the HDF5 file\n",
        "    file = h5py.File(\"/content/drive/My Drive/images/dataset.hdf5\", \"r+\")\n",
        "    images = np.array(file[\"/train_img\"]).astype(\"uint8\")\n",
        "    labels = np.array(file[\"/train_labels\"]).astype(\"uint8\")\n",
        "    return images, labels\n",
        "\n",
        "def read_query_hdf5():\n",
        "    images, labels = [], []\n",
        "    # Open the HDF5 file\n",
        "    file = h5py.File(\"/content/drive/My Drive/images/query.hdf5\", \"r+\")\n",
        "    images = np.array(file[\"/train_img\"]).astype(\"uint8\")\n",
        "    labels = np.array(file[\"/train_labels\"]).astype(\"uint8\")\n",
        "    return images, labels"
      ],
      "execution_count": null,
      "outputs": []
    },
    {
      "cell_type": "code",
      "metadata": {
        "id": "Ywc91DjNO6G7"
      },
      "source": [
        "train_img,train_labels=read_train_hdf5()\n",
        "query_img,query_labels=read_query_hdf5()\n"
      ],
      "execution_count": null,
      "outputs": []
    },
    {
      "cell_type": "code",
      "metadata": {
        "id": "MnrxowBpPapL"
      },
      "source": [
        "from keras.applications.resnet import ResNet152\n",
        "from keras.preprocessing import image\n",
        "from keras.applications.resnet50 import preprocess_input, decode_predictions\n",
        "from keras.models import Model\n",
        "import numpy as np\n",
        "from os import listdir, walk\n",
        "from os.path import isfile, join\n",
        "import itertools"
      ],
      "execution_count": null,
      "outputs": []
    },
    {
      "cell_type": "code",
      "metadata": {
        "id": "2Cb4nPC_PtD3"
      },
      "source": [
        "def predict(img, model: Model):\n",
        "    #print(img_path)\n",
        "    #img = image.load_img(img_path, target_size=(224, 224))\n",
        "    #x = image.img_to_array(img)\n",
        "    x=img\n",
        "    x = np.expand_dims(x, axis=0)\n",
        "    x = preprocess_input(x)\n",
        "    return model.predict(x)\n",
        "def findDifference(f1, f2):\n",
        "    return np.linalg.norm(f1-f2)"
      ],
      "execution_count": null,
      "outputs": []
    },
    {
      "cell_type": "code",
      "metadata": {
        "id": "CXsYfGz4QGLu",
        "colab": {
          "base_uri": "https://localhost:8080/",
          "height": 70
        },
        "outputId": "cb27b8fa-7ac9-4bbd-f0b1-b18c3b536e3a"
      },
      "source": [
        "model = ResNet152(weights='imagenet')\n",
        "total_galery=train_img.shape[0]\n",
        "all_feature=[]\n",
        "for i in range(total_galery):\n",
        "  feature_vector_train=predict(train_img[i],model)\n",
        "  all_feature.append(feature_vector_train)"
      ],
      "execution_count": null,
      "outputs": [
        {
          "output_type": "stream",
          "text": [
            "Downloading data from https://github.com/keras-team/keras-applications/releases/download/resnet/resnet152_weights_tf_dim_ordering_tf_kernels.h5\n",
            "242900992/242900224 [==============================] - 16s 0us/step\n"
          ],
          "name": "stdout"
        }
      ]
    },
    {
      "cell_type": "code",
      "metadata": {
        "id": "KqbPcCKVR2nh"
      },
      "source": [
        "def findDist(query_img,all_feature,model):\n",
        "  res=[]\n",
        "  feature_vector_query=predict(query_img,model)\n",
        "  for i in range(len(all_feature)):\n",
        "    dist=findDifference(all_feature[i],feature_vector_query)\n",
        "    res.append(dist)\n",
        "  return res"
      ],
      "execution_count": null,
      "outputs": []
    },
    {
      "cell_type": "code",
      "metadata": {
        "id": "Ti9Ax_zDWJC0"
      },
      "source": [
        "import matplotlib.pyplot as plt\n",
        "import sys"
      ],
      "execution_count": null,
      "outputs": []
    },
    {
      "cell_type": "code",
      "metadata": {
        "id": "88JCxqvaR9Cu",
        "colab": {
          "base_uri": "https://localhost:8080/",
          "height": 1000
        },
        "outputId": "d6071c9f-ca4b-4bfa-9f15-55bbf905b55e"
      },
      "source": [
        "#file1 = open('/content/drive/My Drive/images/output.txt', 'a')\n",
        "#sys.stdout = file1\n",
        "top1=0\n",
        "top2=0\n",
        "top3=0\n",
        "top4=0\n",
        "top5=0\n",
        "top6=0\n",
        "top7=0\n",
        "top8=0\n",
        "top9=0\n",
        "top10=0\n",
        "for j in range(len(query_img)):\n",
        "  res=findDist(query_img[j],all_feature,model)\n",
        "  ind=np.argsort(res)\n",
        "  if(train_labels[ind[0]]==query_labels[j]):\n",
        "    top1=top1+1\n",
        "  for k in range(2):\n",
        "    if(train_labels[ind[k]]==query_labels[j]):\n",
        "      top2=top2+1\n",
        "      break\n",
        "  for k in range(3):\n",
        "    if(train_labels[ind[k]]==query_labels[j]):\n",
        "      top3=top3+1\n",
        "      break\n",
        "  for k in range(4):\n",
        "    if(train_labels[ind[k]]==query_labels[j]):\n",
        "      top4=top4+1\n",
        "      break\n",
        "  for k in range(5):\n",
        "    if(train_labels[ind[k]]==query_labels[j]):\n",
        "      top5=top5+1\n",
        "      break\n",
        "  for k in range(6):\n",
        "    if(train_labels[ind[k]]==query_labels[j]):\n",
        "      top6=top6+1\n",
        "      break\n",
        "  for k in range(7):\n",
        "    if(train_labels[ind[k]]==query_labels[j]):\n",
        "      top7=top7+1\n",
        "      break\n",
        "  for k in range(8):\n",
        "    if(train_labels[ind[k]]==query_labels[j]):\n",
        "      top8=top8+1\n",
        "      break\n",
        "  for k in range(9):\n",
        "    if(train_labels[ind[k]]==query_labels[j]):\n",
        "      top9=top9+1\n",
        "      break\n",
        "  for k in range(10):\n",
        "    if(train_labels[ind[k]]==query_labels[j]):\n",
        "      top10=top10+1\n",
        "      break\n",
        "  print(\"Top 1 best match with the query image\")\n",
        "  print(\"Query label :\"+str(query_labels[j]))\n",
        "  print(train_labels[ind[k]])\n",
        "   \n",
        "  print(\"Top 5 best match with the query image\")\n",
        "  print(\"Query label :\"+str(query_labels[j]))\n",
        "  for k in range(5):\n",
        "    print(train_labels[ind[k]])\n",
        "    #print(ind[k])\n",
        "    \n",
        "  print(\"Top 10 best match with the query image\")\n",
        "  print(\"Query label :\"+str(query_labels[j]))\n",
        "  for k in range(10):\n",
        "    print(train_labels[ind[k]])\n",
        "    #print(ind[k])\n",
        "    \n",
        "top1_acc=(top1/len(query_img))*100\n",
        "top2_acc=(top2/len(query_img))*100\n",
        "top3_acc=(top3/len(query_img))*100\n",
        "top4_acc=(top4/len(query_img))*100\n",
        "top5_acc=(top5/len(query_img))*100\n",
        "top6_acc=(top6/len(query_img))*100\n",
        "top7_acc=(top7/len(query_img))*100\n",
        "top8_acc=(top8/len(query_img))*100\n",
        "top9_acc=(top9/len(query_img))*100\n",
        "top10_acc=(top10/len(query_img))*100\n",
        "print(\"Top1 Accuracy=\"+str(top1_acc))\n",
        "print(\"Top2 Accuracy=\"+str(top2_acc))\n",
        "print(\"Top3 Accuracy=\"+str(top3_acc))\n",
        "print(\"Top4 Accuracy=\"+str(top4_acc))\n",
        "print(\"Top5 Accuracy=\"+str(top5_acc))\n",
        "print(\"Top6 Accuracy=\"+str(top6_acc))\n",
        "print(\"Top7 Accuracy=\"+str(top7_acc))\n",
        "print(\"Top8 Accuracy=\"+str(top8_acc))\n",
        "print(\"Top9 Accuracy=\"+str(top9_acc))\n",
        "print(\"Top10 Accuracy=\"+str(top10_acc))\n",
        "#print(top1_acc,top5_acc)\n",
        "#file1.close()"
      