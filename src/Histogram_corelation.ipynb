{
  "nbformat": 4,
  "nbformat_minor": 0,
  "metadata": {
    "colab": {
      "name": "Histogram_corelation.ipynb",
      "provenance": [],
      "collapsed_sections": []
    },
    "kernelspec": {
      "name": "python3",
      "display_name": "Python 3"
    }
  },
  "cells": [
    {
      "cell_type": "code",
      "metadata": {
        "id": "w_NS2cl1OFYL"
      },
      "source": [
        "import numpy as np\n",
        "import h5py\n",
        "def read_train_hdf5():\n",
        "    images, labels = [], []\n",
        "    # Open the HDF5 file\n",
        "    file = h5py.File(\"/content/drive/My Drive/images/dataset.hdf5\", \"r+\")\n",
        "    images = np.array(file[\"/train_img\"]).astype(\"uint8\")\n",
        "    labels = np.array(file[\"/train_labels\"]).astype(\"uint8\")\n",
        "    return images, labels\n",
        "\n",
        "def read_query_hdf5():\n",
        "    images, labels = [], []\n",
        "    # Open the HDF5 file\n",
        "    file = h5py.File(\"/content/drive/My Drive/images/query.hdf5\", \"r+\")\n",
        "    images = np.array(file[\"/train_img\"]).astype(\"uint8\")\n",
        "    labels = np.array(file[\"/train_labels\"]).astype(\"uint8\")\n",
        "    return images, labels"
      ],
      "execution_count": null,
      "outputs": []
    },
    {
      "cell_type": "code",
      "metadata": {
        "id": "Ywc91DjNO6G7"
      },
      "source": [
        "train_img,train_labels=read_train_hdf5()\n",
        "query_img,query_labels=read_query_hdf5()\n"
      ],
      "execution_count": null,
      "outputs": []
    },
    {
      "cell_type": "code",
      "metadata": {
        "id": "MnrxowBpPapL",
        "colab": {
          "base_uri": "https://localhost:8080/",
          "height": 34
        },
        "outputId": "e1d21ba4-a391-4da2-8001-57ecdea85f43"
      },
      "source": [
        "from keras.applications.resnet50 import ResNet50\n",
        "from keras.preprocessing import image\n",
        "from keras.applications.resnet50 import preprocess_input, decode_predictions\n",
        "from keras.models import Model\n",
        "import numpy as np\n",
        "from os import listdir, walk\n",
        "from os.path import isfile, join\n",
        "import itertools"
      ],
      "execution_count": null,
      "outputs": [
        {
          "output_type": "stream",
          "text": [
            "Using TensorFlow backend.\n"
          ],
          "name": "stderr"
        }
      ]
    },
    {
      "cell_type": "code",
      "metadata": {
        "id": "2Cb4nPC_PtD3"
      },
      "source": [
        "import cv2\n",
        "def np_hist_to_cv(np_histogram_output):\n",
        "  counts, bin_edges = np_histogram_output\n",
        "  return counts.ravel().astype('float32')\n",
        "def findDifference(f1, f2):\n",
        "  h1 = np.histogram(f1)\n",
        "  h2 = np.histogram(f2)\n",
        "  val=cv2.compareHist(np_hist_to_cv(h1),np_hist_to_cv(h2),cv2.HISTCMP_CORREL)\n",
        "  return val"
      ],
      "execution_count": null,
      "outputs": []
    },
    {
      "cell_type": "code",
      "metadata": {
        "id": "KqbPcCKVR2nh"
      },
      "source": [
        "def findDist(query_img,all_image):\n",
        "  res=[]\n",
        "  for i in range(len(all_image)):\n",
        "    dist=findDifference(query_img,all_image[i])\n",
        "    res.append(dist)\n",
        "  return res"
      ],
      "execution_count": null,
      "outputs": []
    },
    {
      "cell_type": "code",
      "metadata": {
        "id": "Ti9Ax_zDWJC0"
      },
      "source": [
        "import matplotlib.pyplot as plt\n",
        "import sys\n"
      ],
      "execution_count": null,
      "outputs": []
    },
    {
      "cell_type": "code",
      "metadata": {
        "id": "88JCxqvaR9Cu",
        "colab": {
          "base_uri": "https://localhost:8080/",
          "height": 1000
        },
        "outputId": "1a577820-8b85-4478-f251-a2cc40f10477"
      },
      "source": [
        "#file1 = open('/content/drive/My Drive/images/output.txt', 'a')\n",
        "#sys.stdout = file1\n",
        "top1=0\n",
        "top2=0\n",
        "top3=0\n",
        "top4=0\n",
        "top5=0\n",
        "top6=0\n",
        "top7=0\n",
        "top8=0\n",
        "top9=0\n",
        "top10=0\n",
        "for j in range(len(query_img)):\n",
        "  res=findDist(query_img[j],train_img)\n",
        "  ind=np.argsort(res)\n",
        "  if(train_labels[ind[0]]==query_labels[j]):\n",
        "    top1=top1+1\n",
        "  for k in range(2):\n",
        "    if(train_labels[ind[k]]==query_labels[j]):\n",
        "      top2=top2+1\n",
        "      break\n",
        "  for k in range(3):\n",
        "    if(train_labels[ind[k]]==query_labels[j]):\n",
        "      top3=top3+1\n",
        "      break\n",
        "  for k in range(4):\n",
        "    if(train_labels[ind[k]]==query_labels[j]):\n",
        "      top4=top4+1\n",
        "      break\n",
        "  for k in range(5):\n",
        "    if(train_labels[ind[k]]==query_labels[j]):\n",
        "      top5=top5+1\n",
        "      break\n",
        "  for k in range(6):\n",
        "    if(train_labels[ind[k]]==query_labels[j]):\n",
        "      top6=top6+1\n",
        "      break\n",
        "  for k in range(7):\n",
        "    if(train_labels[ind[k]]==query_labels[j]):\n",
        "      top7=top7+1\n",
        "      break\n",
        "  for k in range(8):\n",
        "    if(train_labels[ind[k]]==query_labels[j]):\n",
        "      top8=top8+1\n",
        "      break\n",
        "  for k in range(9):\n",
        "    if(train_labels[ind[k]]==query_labels[j]):\n",
        "      top9=top9+1\n",
        "      break\n",
        "  for k in range(10):\n",
        "    if(train_labels[ind[k]]==query_labels[j]):\n",
        "      top10=top10+1\n",
        "      break\n",
        "  print(\"Top 1 best match with the query image\")\n",
        "  print(\"Query label :\"+str(query_labels[j]))\n",
        "  print(train_labels[ind[j]])\n",
        "    \n",
        "#top1_acc=(top1/len(query_img))*100\n",
        "  #print(\"Top1 Accuracy=\"+str(top1_acc))\n",
        "  print(\"Top 5 best match with the query image\")\n",
        "  print(\"Query label :\"+str(query_labels[j]))\n",
        "  for k in range(5):\n",
        "    print(train_labels[ind[k]])\n",
        "    #print(ind[k])\n",
        "    \n",
        "  print(\"Top 10 best match with the query image\")\n",
        "  print(\"Query label :\"+str(query_labels[j]))\n",
        "  for k in range(10):\n",
        "    print(train_labels[ind[k]])\n",
        "    #print(ind[k])\n",
        "    \n",
        "top1_acc=(top1/len(query_img))*100\n",
        "top2_acc=(top2/len(query_img))*100\n",
        "top3_acc=(top3/len(query_img))*100\n",
        "top4_acc=(top4/len(query_img))*100\n",
        "top5_acc=(top5/len(query_img))*100\n",
        "top6_acc=(top6/len(query_img))*100\n",
        "top7_acc=(top7/len(query_img))*100\n",
        "top8_acc=(top8/len(query_img))*100\n",
        "top9_acc=(top9/len(query_img))*100\n",
        "top10_acc=(top10/len(query_img))*100\n",
        "print(\"Top1 Accuracy=\"+str(top1_acc))\n",
        "print(\"Top2 Accuracy=\"+str(top2_acc))\n",
        "print(\"Top3 Accuracy=\"+str(top3_acc))\n",
        "print(\"Top4 Accuracy=\"+str(top4_acc))\n",
        "print(\"Top5 Accuracy=\"+str(top5_acc))\n",
        "print(\"Top6 Accuracy=\"+str(top6_acc))\n",
        "print(\"Top7 Accuracy=\"+str(top7_acc))\n",
        "print(\"Top8 Accuracy=\"+str(top8_acc))\n",
        "print(\"Top9 Accuracy=\"+str(top9_acc))\n",
        "print(\"Top10 Accuracy=\"+str(top10_acc))\n",
        "#file1.close()"
      